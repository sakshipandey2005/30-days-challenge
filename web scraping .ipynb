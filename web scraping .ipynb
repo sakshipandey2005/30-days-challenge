{
 "cells": [
  {
   "cell_type": "code",
   "execution_count": 22,
   "id": "4d0986a2",
   "metadata": {},
   "outputs": [],
   "source": [
    "import requests\n",
    "from bs4 import BeautifulSoup\n",
    "import pandas as pd\n"
   ]
  },
  {
   "cell_type": "code",
   "execution_count": 23,
   "id": "8426e44c",
   "metadata": {},
   "outputs": [],
   "source": [
    "base_url = 'http://quotes.toscrape.com'"
   ]
  },
  {
   "cell_type": "code",
   "execution_count": 24,
   "id": "9f78e052",
   "metadata": {},
   "outputs": [],
   "source": [
    "all_quotes = []\n",
    "all_authors = []\n",
    "all_tags = []"
   ]
  },
  {
   "cell_type": "code",
   "execution_count": 25,
   "id": "6ff64d5e",
   "metadata": {},
   "outputs": [],
   "source": [
    "# Start with the first page\n",
    "next_page = '/page/1/'\n",
    "\n",
    "while next_page:\n",
    "    # Fetch page content\n",
    "    response = requests.get(base_url + next_page)\n",
    "    soup = BeautifulSoup(response.text, 'html.parser')\n",
    "\n",
    "    # Extract quote blocks\n",
    "    quotes = soup.find_all('div', class_='quote')\n",
    "    for quote in quotes:\n",
    "        all_quotes.append(quote.find('span', class_='text').text)\n",
    "        all_authors.append(quote.find('small', class_='author').text)\n",
    "        tags = [tag.text for tag in quote.find_all('a', class_='tag')]\n",
    "        all_tags.append(\", \".join(tags))\n",
    "\n",
    "# Find the next page link\n",
    "    next_btn = soup.find('li', class_='next')\n",
    "    next_page = next_btn.find('a')['href'] if next_btn else None\n"
   ]
  },
  {
   "cell_type": "code",
   "execution_count": 26,
   "id": "4ac61584",
   "metadata": {},
   "outputs": [],
   "source": [
    "# Create a DataFrame\n",
    "df = pd.DataFrame({\n",
    "    'Quote': all_quotes,\n",
    "    'Author': all_authors,\n",
    "    'Tags': all_tags\n",
    "})"
   ]
  },
  {
   "cell_type": "code",
   "execution_count": 27,
   "id": "343e91b6",
   "metadata": {},
   "outputs": [
    {
     "name": "stdout",
     "output_type": "stream",
     "text": [
      "                                               Quote           Author  \\\n",
      "0  “The world as we have created it is a process ...  Albert Einstein   \n",
      "1  “It is our choices, Harry, that show what we t...     J.K. Rowling   \n",
      "2  “There are only two ways to live your life. On...  Albert Einstein   \n",
      "3  “The person, be it gentleman or lady, who has ...      Jane Austen   \n",
      "4  “Imperfection is beauty, madness is genius and...   Marilyn Monroe   \n",
      "\n",
      "                                           Tags  \n",
      "0        change, deep-thoughts, thinking, world  \n",
      "1                            abilities, choices  \n",
      "2  inspirational, life, live, miracle, miracles  \n",
      "3              aliteracy, books, classic, humor  \n",
      "4                    be-yourself, inspirational  \n"
     ]
    }
   ],
   "source": [
    "# Display the first few rows\n",
    "print(df.head())"
   ]
  },
  {
   "cell_type": "code",
   "execution_count": 28,
   "id": "838e1f06",
   "metadata": {},
   "outputs": [
    {
     "name": "stdout",
     "output_type": "stream",
     "text": [
      "✅ All quotes scraped and saved to 'all_quotes.csv'\n"
     ]
    }
   ],
   "source": [
    "# Save to CSV\n",
    "df.to_csv('all_quotes.csv', index=False)\n",
    "print(\"✅ All quotes scraped and saved to 'all_quotes.csv'\")"
   ]
  }
 ],
 "metadata": {
  "kernelspec": {
   "display_name": "Python 3",
   "language": "python",
   "name": "python3"
  },
  "language_info": {
   "codemirror_mode": {
    "name": "ipython",
    "version": 3
   },
   "file_extension": ".py",
   "mimetype": "text/x-python",
   "name": "python",
   "nbconvert_exporter": "python",
   "pygments_lexer": "ipython3",
   "version": "3.13.1"
  }
 },
 "nbformat": 4,
 "nbformat_minor": 5
}
